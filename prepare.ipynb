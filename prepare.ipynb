{
 "cells": [
  {
   "cell_type": "code",
   "execution_count": 1,
   "id": "f6ab397d",
   "metadata": {},
   "outputs": [],
   "source": [
    "import pandas as pd\n",
    "import numpy as np\n",
    "import cv2\n",
    "import os\n",
    "from sklearn.model_selection import train_test_split"
   ]
  },
  {
   "cell_type": "code",
   "execution_count": 2,
   "id": "8cf45ff8",
   "metadata": {},
   "outputs": [],
   "source": [
    "def create_dataset(dataset_dir):\n",
    "    classes = [\"healthy\", \"early_blight\", \"late_blight\", \"bacterial_spot\", \"mosaic_virus\"]\n",
    "\n",
    "    image_array_list = []\n",
    "    label_list = []\n",
    "\n",
    "    for i in classes:\n",
    "        path = os.path.join(dataset_dir, i)\n",
    "        for img in os.listdir(path):\n",
    "            img_array = cv2.imread(os.path.join(path,img))\n",
    "            img_resized = cv2.resize(img_array, (128, 128))\n",
    "\n",
    "            image_array_list.append(img_resized.flatten())\n",
    "            label_list.append(classes.index(i))\n",
    "\n",
    "    image_data = np.array(image_array_list)\n",
    "    label_data = np.array(label_list)\n",
    "\n",
    "    df = pd.DataFrame(image_data) \n",
    "    df[\"target\"] = label_data\n",
    "\n",
    "    X = df.iloc[:,:-1]\n",
    "    y = df.iloc[:,-1]\n",
    "\n",
    "    return X, y"
   ]
  },
  {
   "cell_type": "markdown",
   "id": "126e75e4",
   "metadata": {},
   "source": [
    "### PlantDoc"
   ]
  },
  {
   "cell_type": "code",
   "execution_count": 3,
   "id": "6498026d",
   "metadata": {},
   "outputs": [],
   "source": [
    "X_train, y_train = create_dataset(\"W:/PlantDoc/train\")\n",
    "X_test, y_test = create_dataset(\"W:/PlantDoc/test\")"
   ]
  },
  {
   "cell_type": "code",
   "execution_count": 4,
   "id": "35ec7bbc",
   "metadata": {},
   "outputs": [],
   "source": [
    "np.savez_compressed(\n",
    "    \"PlantDoc_v2.npz\",\n",
    "    X_train = X_train,\n",
    "    X_test = X_test,\n",
    "    y_train = y_train,\n",
    "    y_test = y_test,\n",
    ")"
   ]
  },
  {
   "cell_type": "markdown",
   "id": "1646f0a1",
   "metadata": {},
   "source": [
    "### PlantVillage"
   ]
  },
  {
   "cell_type": "code",
   "execution_count": null,
   "id": "c094df1e",
   "metadata": {},
   "outputs": [],
   "source": [
    "X, y = create_dataset(\"W:/PlantVillage\")"
   ]
  },
  {
   "cell_type": "code",
   "execution_count": null,
   "id": "a47afd45",
   "metadata": {},
   "outputs": [],
   "source": [
    "X_train, X_test, y_train, y_test = train_test_split(X, y, test_size=0.2, random_state=42, stratify=y)\n",
    "\n",
    "np.savez_compressed(\n",
    "    \"PlantVillage.npz\",\n",
    "    X_train = X_train,\n",
    "    X_test = X_test,\n",
    "    y_train = y_train,\n",
    "    y_test = y_test,\n",
    ")"
   ]
  }
 ],
 "metadata": {
  "kernelspec": {
   "display_name": "test",
   "language": "python",
   "name": "python3"
  },
  "language_info": {
   "codemirror_mode": {
    "name": "ipython",
    "version": 3
   },
   "file_extension": ".py",
   "mimetype": "text/x-python",
   "name": "python",
   "nbconvert_exporter": "python",
   "pygments_lexer": "ipython3",
   "version": "3.12.8"
  }
 },
 "nbformat": 4,
 "nbformat_minor": 5
}
